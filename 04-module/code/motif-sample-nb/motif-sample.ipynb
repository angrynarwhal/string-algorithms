{
 "cells": [
  {
   "cell_type": "code",
   "execution_count": 1,
   "id": "fc114b19-0e16-4bd9-b7c8-4ed0e4b6e012",
   "metadata": {},
   "outputs": [],
   "source": [
    "import requests\n",
    "import re\n"
   ]
  },
  {
   "cell_type": "code",
   "execution_count": 2,
   "id": "5db077e1-53fb-4699-864f-840114cb06ab",
   "metadata": {},
   "outputs": [
    {
     "name": "stdout",
     "output_type": "stream",
     "text": [
      "results:\n",
      "{'P07204_TRBM_HUMAN': {'fasta_format': '>sp|P07204|TRBM_HUMAN Thrombomodulin OS=Homo sapiens OX=9606 GN=THBD PE=1 SV=2\\nMLGVLVLGALALAGLGFPAPAEPQPGGSQCVEHDCFALYPGPATFLNASQICDGLRGHLM\\nTVRSSVAADVISLLLNGDGGVGRRRLWIGLQLPPGCGDPKRLGPLRGFQWVTGDNNTSYS\\nRWARLDLNGAPLCGPLCVAVSAAEATVPSEPIWEEQQCEVKADGFLCEFHFPATCRPLAV\\nEPGAAAAAVSITYGTPFAARGADFQALPVGSSAAVAPLGLQLMCTAPPGAVQGHWAREAP\\nGAWDCSVENGGCEHACNAIPGAPRCQCPAGAALQADGRSCTASATQSCNDLCEHFCVPNP\\nDQPGSYSCMCETGYRLAADQHRCEDVDDCILEPSPCPQRCVNTQGGFECHCYPNYDLVDG\\nECVEPVDPCFRANCEYQCQPLNQTSYLCVCAEGFAPIPHEPHRCQMFCNQTACPADCDPN\\nTQASCECPEGYILDDGFICTDIDECENGGFCSGVCHNLPGTFECICGPDSALARHIGTDC\\nDSGKVDGGDSGSGEPPPSPTPGSTLTPPAVGLVHSGLLIGISIASLCLVVALLALLCHLR\\nKKQGAARAKMEYKCAAPSKEVVLQHVRTERTPQRL\\n', 'protein_seq': 'MLGVLVLGALALAGLGFPAPAEPQPGGSQCVEHDCFALYPGPATFLNASQICDGLRGHLMTVRSSVAADVISLLLNGDGGVGRRRLWIGLQLPPGCGDPKRLGPLRGFQWVTGDNNTSYSRWARLDLNGAPLCGPLCVAVSAAEATVPSEPIWEEQQCEVKADGFLCEFHFPATCRPLAVEPGAAAAAVSITYGTPFAARGADFQALPVGSSAAVAPLGLQLMCTAPPGAVQGHWAREAPGAWDCSVENGGCEHACNAIPGAPRCQCPAGAALQADGRSCTASATQSCNDLCEHFCVPNPDQPGSYSCMCETGYRLAADQHRCEDVDDCILEPSPCPQRCVNTQGGFECHCYPNYDLVDGECVEPVDPCFRANCEYQCQPLNQTSYLCVCAEGFAPIPHEPHRCQMFCNQTACPADCDPNTQASCECPEGYILDDGFICTDIDECENGGFCSGVCHNLPGTFECICGPDSALARHIGTDCDSGKVDGGDSGSGEPPPSPTPGSTLTPPAVGLVHSGLLIGISIASLCLVVALLALLCHLRKKQGAARAKMEYKCAAPSKEVVLQHVRTERTPQRL', 'N-glycosylation motif': {'motif': 'N-{P}-[ST]-{P}', 'positions': [47, 115, 116, 382, 409]}}}\n"
     ]
    }
   ],
   "source": [
    "class UniprotRequest:\n",
    "\n",
    "    def __init__(self, uniprot_id_list, retry=10):\n",
    "        self.retry = retry\n",
    "        self.uniprot_URL = \"http://www.uniprot.org/uniprot/\"\n",
    "        self.suffix = \".fasta\"\n",
    "        self.results_dict = {}\n",
    "        self.get_protein_data(uniprot_id_list)\n",
    "\n",
    "\n",
    "\n",
    "    def find_motif(self, protein_sequence, motif_regex):\n",
    "        start_positions = []\n",
    "        matches = re.finditer(motif_regex, protein_sequence)\n",
    "        for match in matches:\n",
    "            start_positions.append(match.start() + 1)  # 1 indexed\n",
    "\n",
    "        return start_positions\n",
    "\n",
    "    \"\"\"\n",
    "    Need lookahead in regex to allow overlapping of motifs.\n",
    "    \"\"\"\n",
    "    def find_motifs(self, motif_regex=r\"N{1,1}(?=[^P]{1,1}(S|T){1,1}[^P]{1,1})\", motif=\"N-{P}-[ST]-{P}\",\n",
    "                    motif_name=\"N-glycosylation motif\"):\n",
    "        for item in self.results_dict:\n",
    "            protein_seq = self.results_dict[item][\"protein_seq\"]\n",
    "            motif_positions = self.find_motif(protein_seq, motif_regex)\n",
    "            self.results_dict[item][motif_name] = {\"motif\": motif, \"positions\": motif_positions}\n",
    "\n",
    "    def fasta_to_seq(self, fasta):\n",
    "        start_index = re.search(r\"\\n\", fasta).start() + 1\n",
    "        sequence = fasta[start_index:]\n",
    "        sequence = re.sub(r\"[\\n\\r]+\", \"\", sequence)\n",
    "        return sequence\n",
    "\n",
    "    def get_protein_data(self, uniprot_id_list):\n",
    "\n",
    "        for item in uniprot_id_list:\n",
    "            data_entry = {}\n",
    "            fasta_format = self.data_transaction(item)\n",
    "            data_entry[\"fasta_format\"] = fasta_format\n",
    "            protein_seq = self.fasta_to_seq(fasta_format)\n",
    "            data_entry[\"protein_seq\"] = protein_seq\n",
    "            self.results_dict[item] = data_entry\n",
    "        return\n",
    "\n",
    "    def data_transaction(self, uniprot_id):\n",
    "        response = requests.get(self.uniprot_URL + uniprot_id + self.suffix)\n",
    "        retry_times = 0\n",
    "        if response.ok:\n",
    "            return response.text\n",
    "        else:\n",
    "            retry_times += 1\n",
    "            if retry_times == self.retry:\n",
    "                response.raise_for_status()\n",
    "\n",
    "    def get_data(self):\n",
    "        return self.results_dict\n",
    "\n",
    "\n",
    "if __name__ == \"__main__\":\n",
    "    test = UniprotRequest([\"P07204_TRBM_HUMAN\"])\n",
    "    test.find_motifs()\n",
    "\n",
    "    print(\"results:\")\n",
    "    print(test.results_dict)\n"
   ]
  },
  {
   "cell_type": "code",
   "execution_count": null,
   "id": "f6d1f950-c715-45ed-9e58-5b805622a563",
   "metadata": {},
   "outputs": [],
   "source": []
  }
 ],
 "metadata": {
  "kernelspec": {
   "display_name": "Python 3 (ipykernel)",
   "language": "python",
   "name": "python3"
  },
  "language_info": {
   "codemirror_mode": {
    "name": "ipython",
    "version": 3
   },
   "file_extension": ".py",
   "mimetype": "text/x-python",
   "name": "python",
   "nbconvert_exporter": "python",
   "pygments_lexer": "ipython3",
   "version": "3.9.10"
  }
 },
 "nbformat": 4,
 "nbformat_minor": 5
}
