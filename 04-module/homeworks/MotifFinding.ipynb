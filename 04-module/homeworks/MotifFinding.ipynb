{
 "cells": [
  {
   "cell_type": "markdown",
   "metadata": {},
   "source": [
    "# Module 4: Motif Finding\n",
    "\n",
    "Your name:\n",
    "\n",
    "Names of two data sets you will do motif finding with. \n",
    "\n",
    "**You can use examples from class in place of the examples described here. You can also substitute the example problems as an approach. There are examples using the algorithms defined here in the reading, but you will likely find this easier to understand if you apply examples from class. **\n"
   ]
  },
  {
   "cell_type": "markdown",
   "metadata": {},
   "source": [
    "## Task 1: Generate Planted Motif Problem Instance (10 points)\n",
    "\n",
    "In this task, we learn to generate an instance of the Planted Motif Problem.\n",
    "\n",
    "In Python, strings are immutable and you cannot change individual symbols, which makes random mutations tricky. A mutable alternative is `bytearray`, which is demonstrated in the following code."
   ]
  },
  {
   "cell_type": "code",
   "execution_count": null,
   "metadata": {
    "collapsed": false,
    "jupyter": {
     "outputs_hidden": false
    }
   },
   "outputs": [],
   "source": [
    "# transform string to bytearray using encode\n",
    "s = 'AAAAAA'\n",
    "seq = bytearray(s.encode())\n",
    "print(seq)\n",
    "\n",
    "# for literal strings a more direct way is:\n",
    "seq = bytearray(b'AAAAAA')\n",
    "print(seq)\n",
    "\n",
    "# transform bytearray to string using decode\n",
    "print(seq.decode())\n",
    "\n",
    "# transform a single symbol using ord\n",
    "seq[1] = ord('G')\n",
    "print(seq.decode())\n",
    "# seq[1] = b'G' does not work because ord('G') is a single integer\n",
    "# but b'G' or 'G'.encode() is a sequence of integers (of length 1)\n",
    "\n",
    "# bytearrays support assigning to slices too\n",
    "seq[2:4] = b'TT'\n",
    "print(seq.decode())\n",
    "\n",
    "seq[5:6] = b'C'\n",
    "print(seq.decode())\n",
    "\n",
    "seq[4:5] = seq[1:4]\n",
    "print(seq.decode())"
   ]
  },
  {
   "cell_type": "markdown",
   "metadata": {},
   "source": [
    "Your task is to write a function that generates an instance of the Planted Motif Problem. The problem and its parameters are described in the lecture notes. One difference to lecture notes is that the unmutated motif is given as an argument, which helps in checking if the correct motif was found. The output should be a list of strings. Some helpful functions are already provided in the code."
   ]
  },
  {
   "cell_type": "code",
   "execution_count": null,
   "metadata": {
    "collapsed": false,
    "jupyter": {
     "outputs_hidden": false
    }
   },
   "outputs": [],
   "source": [
    "import random\n",
    "\n",
    "dna_bases = 'ACGT'\n",
    "# dna_bases.encode() for byte encoding\n",
    "# dna_bases.lower() for lower case bases\n",
    "# Mixing upper and lower case symbols may help in debugging\n",
    "\n",
    "def uniform_bernoulli_sequence(symbols, length):\n",
    "    return ''.join(random.choice(symbols) for i in range(length))\n",
    "\n",
    "def mutate(symbol, symbols):\n",
    "    new_symbol = random.choice(symbols)\n",
    "    while (new_symbol == symbol):\n",
    "        new_symbol = random.choice(symbols)\n",
    "    return new_symbol\n",
    "\n",
    "def mutate_random_positions(seq, d, symbols):\n",
    "    pos = random.sample(range(len(seq)), d)\n",
    "    for p in pos:\n",
    "        seq[p] = mutate(seq[p], symbols)\n",
    "\n",
    "def planted_motif_instance(t, n, motif, d):\n",
    "    l = len(motif)\n",
    "    instance = []\n",
    "    # ...\n",
    "    # your code here\n",
    "    # ...\n",
    "    return instance\n",
    "    \n",
    "print(planted_motif_instance(5, 20, 'AAAAAAAAA', 2))"
   ]
  },
  {
   "cell_type": "markdown",
   "metadata": {},
   "source": [
    "## Task 2: Gibbs Sampler \n",
    "\n",
    "In this task, we implement the Gibbs Sampler algorithm described in the lectures. "
   ]
  },
  {
   "cell_type": "markdown",
   "metadata": {},
   "source": [
    "### a) Motif consensus (and profile)\n",
    "\n",
    "First, complete the following function that computes the consensus of a motif, which is given as a list of l-mers."
   ]
  },
  {
   "cell_type": "code",
   "execution_count": null,
   "metadata": {
    "collapsed": false,
    "jupyter": {
     "outputs_hidden": false
    }
   },
   "outputs": [],
   "source": [
    "from collections import Counter\n",
    "\n",
    "def consensus(motif):\n",
    "    t = len(motif)\n",
    "    l = len(motif[0])\n",
    "    consensus_list = []\n",
    "    for i in range(l):\n",
    "        # ...\n",
    "        # your code here\n",
    "        # ...\n",
    "        consensus_list.append(consensus_symbol)\n",
    "    return ''.join(consensus_list)\n",
    "\n",
    "motif = ['ACGTT', 'AGGTA', 'ACCAT']\n",
    "print(consensus(motif))"
   ]
  },
  {
   "cell_type": "markdown",
   "metadata": {},
   "source": [
    "We also need to compute a profile from a motif. The code is given here in full."
   ]
  },
  {
   "cell_type": "code",
   "execution_count": null,
   "metadata": {
    "collapsed": false,
    "jupyter": {
     "outputs_hidden": false
    }
   },
   "outputs": [],
   "source": [
    "from math import log\n",
    "\n",
    "# generate a profile matrix from a motif given as a list of l-mers\n",
    "# the profile entries are logarithms of pseudocounts\n",
    "def profile_matrix(motif):\n",
    "    t = len(motif)\n",
    "    l = len(motif[0])\n",
    "    profile = []\n",
    "    for col in range(l):\n",
    "        counts = Counter({'A':1, 'C':1, 'G':1, 'T':1})\n",
    "        for i in range(t):\n",
    "            counts[motif[i][col]] += 1\n",
    "        logfreqs = {}\n",
    "        for s in counts.keys():\n",
    "            logfreqs[s] = log(counts[s])\n",
    "        profile.append(logfreqs)\n",
    "    return profile\n",
    "\n",
    "print(motif)\n",
    "profile = profile_matrix(motif)\n",
    "print(profile)"
   ]
  },
  {
   "cell_type": "markdown",
   "metadata": {},
   "source": [
    "### b) l-mer weights\n",
    "\n",
    "During its operation Gibbs Sampler needs to compute l-mer likelihoods or weights using a given profile. Below is a function for that. Also provided as a first application is a function for computing a motif score."
   ]
  },
  {
   "cell_type": "code",
   "execution_count": null,
   "metadata": {
    "collapsed": false,
    "jupyter": {
     "outputs_hidden": false
    }
   },
   "outputs": [],
   "source": [
    "# compute the logweight of an l-mer according to a profile\n",
    "# the output is the sum of the logarithms of the pseudoweights, which can be used for comparison\n",
    "def lmer_logweight(lmer, profile):\n",
    "    l = len(lmer)\n",
    "    logweight = 0.0\n",
    "    for i in range(l):\n",
    "        logweight += profile[i][lmer[i]]\n",
    "    return logweight\n",
    "\n",
    "print(lmer_logweight('ACGTT', profile))\n",
    "\n",
    "def motif_score(motif):\n",
    "    profile = profile_matrix(motif)\n",
    "    score = 0.0\n",
    "    for lmer in motif:\n",
    "        score += lmer_logweight(lmer, profile)\n",
    "    return score\n",
    "\n",
    "print(motif_score(motif))"
   ]
  },
  {
   "cell_type": "markdown",
   "metadata": {},
   "source": [
    "Another place, where Gibbs sampler needs the l-mer weights, is in choosing a random l-mer from a sequence according to the l-mer weights. Complete the function below that does this. Here we need the actual weights instead of their logarithms. You can use the function `weighted_choice()` from Exercise 1(b) to make the choice once you have computed the weights."
   ]
  },
  {
   "cell_type": "code",
   "execution_count": null,
   "metadata": {
    "collapsed": false,
    "jupyter": {
     "outputs_hidden": false
    }
   },
   "outputs": [],
   "source": [
    "from math import exp\n",
    "\n",
    "# the actual weight for random selection is obtained as exp(logweight)\n",
    "logweight = lmer_logweight('ACGTT', profile)\n",
    "weight = exp(logweight)\n",
    "print(weight)\n",
    "\n",
    "def weighted_choice(weights):\n",
    "    # copy from exercise 1(b)\n",
    "\n",
    "    \n",
    "# returns a randomly chosen lmer from seq\n",
    "def lmer_choice(seq, profile):\n",
    "    n = len(seq)\n",
    "    l = len(profile)\n",
    "    # ...\n",
    "    # your code here\n",
    "    # ...\n",
    "\n",
    "seq = 'ACGTTGCACGTA'\n",
    "lmer = lmer_choice(seq, profile)\n",
    "print(lmer)"
   ]
  },
  {
   "cell_type": "markdown",
   "metadata": {},
   "source": [
    "### c) Gibbs Sampler\n",
    "\n",
    "Complete the following code to implement Gibbs Sampler. Note that the initial motif is chosen according to a given profile. Here the uniform profile is used but later we can use a profile obtained by random projection."
   ]
  },
  {
   "cell_type": "code",
   "execution_count": null,
   "metadata": {
    "collapsed": false,
    "jupyter": {
     "outputs_hidden": false
    }
   },
   "outputs": [],
   "source": [
    "\n",
    "def uniform_profile(l):\n",
    "    return [{'A':1, 'C':1, 'G':1, 'T':1}] * l\n",
    "\n",
    "def gibbs_sampler(seqs, l, initial_profile, no_of_rounds):\n",
    "    t = len(seqs)\n",
    "    n = len(seqs[0])\n",
    "    # generate a random motif from the initial profile\n",
    "    motif = []\n",
    "    for i in range(t):\n",
    "        motif.append(lmer_choice(seqs[i], initial_profile))\n",
    "    best_motif = motif\n",
    "    best_score = motif_score(motif)\n",
    "    time_from_last_improvement = 0\n",
    "    # stop when there is no improvement for long enough\n",
    "    while time_from_last_improvement < no_of_rounds:\n",
    "        time_from_last_improvement += 1\n",
    "        # ...\n",
    "        # Your code here\n",
    "        # ...\n",
    "        if score > best_score:\n",
    "            best_motif = motif\n",
    "            best_score = score\n",
    "            time_from_last_improvement = 0\n",
    "    return best_motif\n",
    "\n",
    "sequences = planted_motif_instance(10, 20, 'ACGTTGAG', 1)\n",
    "print(sequences)\n",
    "initial_profile = uniform_profile(8)\n",
    "motif = gibbs_sampler(sequences, 8, initial_profile, 50)\n",
    "print(motif)\n",
    "print(consensus(motif))"
   ]
  },
  {
   "cell_type": "markdown",
   "metadata": {},
   "source": [
    "## Task 3: Random Projection \n",
    "\n",
    "In this task, we implement the random projection algorithm.\n",
    "\n",
    "The code below implements random projection in its simplest form: It distributes the input l-mers into buckets based on a random projection and returns the contents of the largest bucket as the motif."
   ]
  },
  {
   "cell_type": "code",
   "execution_count": null,
   "metadata": {
    "collapsed": false,
    "jupyter": {
     "outputs_hidden": false
    }
   },
   "outputs": [],
   "source": [
    "from collections import defaultdict\n",
    "\n",
    "def projection(lmer, pos):\n",
    "    l = len(lmer)\n",
    "    k = len(pos)\n",
    "    return ''.join(lmer[pos[i]] for i in range(k))\n",
    "\n",
    "print(projection('ACGTTGAG', [1, 3, 7]))\n",
    "\n",
    "def simple_random_projection(seqs, l, k):\n",
    "    t = len(seqs)\n",
    "    n = len(seqs[0])\n",
    "    pos = random.sample(range(l), k)\n",
    "    buckets = defaultdict(list)\n",
    "    for i in range(t):\n",
    "        for j in range(n-l+1):\n",
    "            lmer = seqs[i][j:j+l]\n",
    "            kmer = projection(lmer, pos)\n",
    "            buckets[kmer].append(lmer)\n",
    "    max_size = 0\n",
    "    for kmer in buckets.keys():\n",
    "        if len(buckets[kmer]) > max_size:\n",
    "            motif = buckets[kmer]\n",
    "            max_size = len(buckets[kmer])\n",
    "    return motif\n",
    "\n",
    "print(motif)\n",
    "print(consensus(motif))"
   ]
  },
  {
   "cell_type": "markdown",
   "metadata": {},
   "source": [
    "Write the full random projection algorithm including the following features (1 point for each feature):\n",
    "* Use Gibbs Sampler to refine the motif.\n",
    "* If there are multiple buckets with size over a given threshold, try refining them all.\n",
    "* Repeat until no improvement is seen for a given number of rounds."
   ]
  },
  {
   "cell_type": "code",
   "execution_count": null,
   "metadata": {},
   "outputs": [],
   "source": [
    "\n",
    "def random_projection(seqs, l, k, no_of_rounds)\n",
    "    # ..."
   ]
  },
  {
   "cell_type": "markdown",
   "metadata": {},
   "source": [
    "## Task 4: Test the algorithms (2 points)\n",
    "\n",
    "Try to solve the Planted (15,4)-Motif Problem using the algorithms implemented above. Try different parameter settings to find one that works well. If successful, try the more challenging (14,4)-motif problem. Can you even solve the (13,4)-motif problem?"
   ]
  },
  {
   "cell_type": "code",
   "execution_count": null,
   "metadata": {
    "collapsed": false,
    "jupyter": {
     "outputs_hidden": false
    }
   },
   "outputs": [],
   "source": [
    "\n",
    "sequences = planted_motif_instance(20, 600, 'ACGTTGAGACCATGG', 4)\n",
    "\n",
    "# ...\n",
    "\n",
    "sequences = planted_motif_instance(20, 600, 'ACGTTGAGACCATG', 4)\n",
    "\n"
   ]
  },
  {
   "cell_type": "code",
   "execution_count": null,
   "metadata": {},
   "outputs": [],
   "source": []
  }
 ],
 "metadata": {
  "kernelspec": {
   "display_name": "Python 3 (ipykernel)",
   "language": "python",
   "name": "python3"
  },
  "language_info": {
   "codemirror_mode": {
    "name": "ipython",
    "version": 3
   },
   "file_extension": ".py",
   "mimetype": "text/x-python",
   "name": "python",
   "nbconvert_exporter": "python",
   "pygments_lexer": "ipython3",
   "version": "3.9.10"
  }
 },
 "nbformat": 4,
 "nbformat_minor": 4
}
