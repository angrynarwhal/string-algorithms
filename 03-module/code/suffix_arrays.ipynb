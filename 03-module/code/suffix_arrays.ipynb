{
 "cells": [
  {
   "cell_type": "markdown",
   "metadata": {
    "tags": []
   },
   "source": [
    "# Suffix arrays: How to compute them fast with Python"
   ]
  },
  {
   "cell_type": "markdown",
   "metadata": {},
   "source": [
    "# Just give me the code!"
   ]
  },
  {
   "cell_type": "code",
   "execution_count": 1,
   "metadata": {
    "ExecuteTime": {
     "end_time": "2017-07-03T06:40:34.982507Z",
     "start_time": "2017-07-03T07:40:34.943619+01:00"
    }
   },
   "outputs": [],
   "source": [
    "from itertools import zip_longest, islice\n",
    "\n",
    "\n",
    "def to_int_keys_best(l):\n",
    "    \"\"\"\n",
    "    l: iterable of keys\n",
    "    returns: a list with integer keys\n",
    "    \"\"\"\n",
    "    seen = set()\n",
    "    ls = []\n",
    "    for e in l:\n",
    "        if not e in seen:\n",
    "            ls.append(e)\n",
    "            seen.add(e)\n",
    "    ls.sort()\n",
    "    index = {v: i for i, v in enumerate(ls)}\n",
    "    return [index[v] for v in l]\n",
    "\n",
    "\n",
    "def suffix_matrix_best(s):\n",
    "    \"\"\"\n",
    "    suffix matrix of s\n",
    "    O(n * log(n)^2)\n",
    "    \"\"\"\n",
    "    n = len(s)\n",
    "    k = 1\n",
    "    line = to_int_keys_best(s)\n",
    "    ans = [line]\n",
    "    while max(line) < n - 1:\n",
    "        line = to_int_keys_best(\n",
    "            [a * (n + 1) + b + 1\n",
    "             for (a, b) in\n",
    "             zip_longest(line, islice(line, k, None),\n",
    "                         fillvalue=-1)])\n",
    "        ans.append(line)\n",
    "        k <<= 1\n",
    "    return ans\n",
    "\n",
    "\n",
    "def suffix_array_best(s):\n",
    "    \"\"\"\n",
    "    suffix array of s\n",
    "    O(n * log(n)^2)\n",
    "    \"\"\"\n",
    "    n = len(s)\n",
    "    k = 1\n",
    "    line = to_int_keys_best(s)\n",
    "    while max(line) < n - 1:\n",
    "        line = to_int_keys_best(\n",
    "            [a * (n + 1) + b + 1\n",
    "             for (a, b) in\n",
    "             zip_longest(line, islice(line, k, None),\n",
    "                         fillvalue=-1)])\n",
    "        k <<= 1\n",
    "    return line"
   ]
  },
  {
   "cell_type": "markdown",
   "metadata": {},
   "source": [
    "# Short reminder\n",
    "\n",
    "## Suffix array\n",
    "\n",
    "Given a string `s` of length `n`, we want to compute the suffix array `sa` of same length.\n",
    "\n",
    "`sa[i]` is the rank according to the lexicographic order of the suffix at index i `s[i:]` amongst all the suffixes.\n",
    "\n",
    "They are strictly ordered (two suffixes cannot be equal since they are all of different lengths) thus the suffix array is always a permutation of `range(n)`.\n",
    "\n",
    "For example, the suffix array of 'banana' is [3, 2, 5, 1, 4, 0]. We can see that the first two suffixes (ranks 0 and 1) are the ones that begin with the letter 'a'.\n",
    "\n",
    "There is an equivalent definition of suffix arrays: `sa_alternative[i]` is the index of the suffix at the i-th position in the sorted list of all suffixes."
   ]
  },
  {
   "cell_type": "code",
   "execution_count": 2,
   "metadata": {
    "ExecuteTime": {
     "end_time": "2017-07-02T16:46:23.945580Z",
     "start_time": "2017-07-02T17:46:23.923875+01:00"
    }
   },
   "outputs": [
    {
     "data": {
      "text/plain": [
       "[5, 3, 1, 0, 4, 2]"
      ]
     },
     "execution_count": 2,
     "metadata": {},
     "output_type": "execute_result"
    }
   ],
   "source": [
    "def suffix_array_alternative_naive(s):\n",
    "    return [rank for suffix, rank in sorted((s[i:], i) for i in range(len(s)))]\n",
    "\n",
    "suffix_array_alternative_naive('banana')"
   ]
  },
  {
   "cell_type": "markdown",
   "metadata": {},
   "source": [
    "As you can see, this is exactly the inverse permutation of `sa`, and it is trivial to invert it in $O(n)$."
   ]
  },
  {
   "cell_type": "code",
   "execution_count": 3,
   "metadata": {
    "ExecuteTime": {
     "end_time": "2017-07-02T16:46:23.963187Z",
     "start_time": "2017-07-02T17:46:23.948895+01:00"
    }
   },
   "outputs": [
    {
     "data": {
      "text/plain": [
       "[3, 2, 5, 1, 4, 0]"
      ]
     },
     "execution_count": 3,
     "metadata": {},
     "output_type": "execute_result"
    }
   ],
   "source": [
    "def inverse_array(l):\n",
    "    n = len(l)\n",
    "    ans = [0] * n\n",
    "    for i in range(n):\n",
    "        ans[l[i]] = i\n",
    "    return ans\n",
    "\n",
    "\n",
    "def suffix_array_naive(s):\n",
    "    return inverse_array(suffix_array_alternative_naive(s))\n",
    "\n",
    "suffix_array_naive('banana')"
   ]
  },
  {
   "cell_type": "markdown",
   "metadata": {},
   "source": [
    "Now the performance doesn't seem horrible:"
   ]
  },
  {
   "cell_type": "code",
   "execution_count": 4,
   "metadata": {
    "ExecuteTime": {
     "end_time": "2017-07-02T16:46:27.841162Z",
     "start_time": "2017-07-02T17:46:23.967028+01:00"
    }
   },
   "outputs": [
    {
     "name": "stdout",
     "output_type": "stream",
     "text": [
      "18.6 ms ± 873 µs per loop (mean ± std. dev. of 7 runs, 10 loops each)\n",
      "25.6 ms ± 2.55 ms per loop (mean ± std. dev. of 7 runs, 10 loops each)\n"
     ]
    }
   ],
   "source": [
    "from random import randint\n",
    "\n",
    "constant_string = lambda length: 'a' * int(length)\n",
    "random_string = lambda length: ''.join(chr(randint(ord('a'), ord('z')))\n",
    "                                       for _ in range(int(length)))\n",
    "\n",
    "s1 = constant_string(1e4)\n",
    "s2 = random_string(1e4)\n",
    "\n",
    "%timeit suffix_array_alternative_naive(s1)\n",
    "%timeit suffix_array_alternative_naive(s2)"
   ]
  },
  {
   "cell_type": "markdown",
   "metadata": {},
   "source": [
    "The time complexity is dominated by the generation of `sorted((s[i:], i) for i in range(len(s)))` which is $O(n^2log(n))$ in the *worst* case: $O(n*log(n))$ for the sort and $O(n)$ for one comparison.\n",
    "\n",
    "In practice, it is not really bad because the strings start to be different really quickly, so the $O(n)$ factor becomes less significant.\n",
    "\n",
    "But the worst is the memory cost $O(n^2)$. That makes the algorithm for `length = 100000` use several Go of RAM.\n",
    "\n",
    "Because string comparisons seem to be really optimised in Python, the trivial algorithm slightly outperforms the more efficient algorithms for the small values. However, it is really not usable for bigger values of `n`.\n",
    "\n",
    "Here, one could think that the performance could be worse for the `constant_string` because of the comparisons. However, because the prefixes are already sorted and the constant behind the string comparison is really small, it appears faster. See my question on [[StackOverflow]](https://stackoverflow.com/questions/44866493/how-is-the-string-sort-optimised-in-cpython).\n"
   ]
  },
  {
   "cell_type": "markdown",
   "metadata": {},
   "source": [
    "## Prefix doubling\n",
    "\n",
    "The algorithm described in [[Stanford]](http://web.stanford.edu/class/cs97si/suffix-array.pdf) is called *prefix doubling*.\n",
    "\n",
    "Let's say all the letters of your string are different. Then the order of the suffixes is only determined by their first letter, and you can do that in $O(n*log(n))$ time and $O(n)$ space complexity by sorting the letters.\n",
    "\n",
    "Even if the letters are not different, grouping the suffixes according to their first letter is a good idea. It is the idea of prefix radix sort.\n",
    "\n",
    "And here we can use an idea similar to [pointer jumping](https://en.wikipedia.org/wiki/Pointer_jumping) to double at each step the length of the prefixes that are compared.\n",
    "\n",
    "Say you have at step `log(k)` the orders of the partial prefixes `s[i: i+k]`. But `s[i: i+2*k] == s[i: i+k] + s[i+k: 2*k]` so you can merge at each step the order and the shifted order to obtain the new order. Hence the name *prefix doubling*. It is really a beautiful algorithm.\n",
    "\n",
    "After at most $log(n)$ steps, you have totally sorted the prefixes. The complexity is $O(n)$ space (or $O(n*log(n))$ for the prefix matrix, see below) and $O(n*log^2n)$ time if you implement the merge operation in $O(n*log(n))$.\n",
    "\n",
    "\n",
    "## Prefix matrix\n",
    "\n",
    "\n",
    "When you use prefix doubling, keeping the intermediate partial sorts allows us to compute the Longest Common Prefix (LCP) of two indexes `i` and `j` in $O(log(n))$. The strategy is described in [[Stanford]](http://web.stanford.edu/class/cs97si/suffix-array.pdf).\n",
    "\n",
    "This is the reason why I prefer prefix doubling over others because it is a semilinear computation to make LCP queries in $O(log(n))$ time. If you think thoroughly, using the suffix matrix to compute the LCP is similar to the father pointer doubling algorithm for Lowest Common Ancestor (LCA) in the suffix tree, see [[Topcoder]][1].\n",
    "\n",
    "[1]: https://www.topcoder.com/community/data-science/data-science-tutorials/range-minimum-query-and-lowest-common-ancestor/#Another%20easy%20solution%20in%20O(N%20logN,%20O(logN)\n",
    "\n",
    "\n",
    "## Other algorithms\n",
    "\n",
    "There are $O(n)$ algorithms to compute the suffix array, like building the suffix tree and converting it to suffix array, but the constant is high. A more efficient algorithms is the Skew algorithms: [[Skew]](http://www.cs.umd.edu/class/fall2011/cmsc858s/SuffixArrays.pdf).\n",
    "\n",
    "However, the Skew algorithm does not allow simple computation of the LCA.\n",
    "\n",
    "I think there are more complicated algorithms using both the suffix array and the LCP array to be able to traverse the suffix tree without constructing it, and then you can use other classic algorithms for the LCA."
   ]
  },
  {
   "cell_type": "markdown",
   "metadata": {},
   "source": [
    "# The basic implementation"
   ]
  },
  {
   "cell_type": "code",
   "execution_count": 5,
   "metadata": {
    "ExecuteTime": {
     "end_time": "2017-07-02T16:46:27.885240Z",
     "start_time": "2017-07-02T17:46:27.844755+01:00"
    }
   },
   "outputs": [
    {
     "data": {
      "text/plain": [
       "[[1, 0, 2, 0, 2, 0],\n",
       " [2, 1, 3, 1, 3, 0],\n",
       " [3, 2, 5, 1, 4, 0],\n",
       " [3, 2, 5, 1, 4, 0]]"
      ]
     },
     "execution_count": 5,
     "metadata": {},
     "output_type": "execute_result"
    }
   ],
   "source": [
    "from itertools import zip_longest, islice\n",
    "\n",
    "\n",
    "def to_int_keys(l):\n",
    "    \"\"\"\n",
    "    l: iterable of keys\n",
    "    returns: a list with integer keys\n",
    "    \"\"\"\n",
    "    index = {v: i for i, v in enumerate(sorted(set(l)))}\n",
    "    return [index[v] for v in l]\n",
    "\n",
    "\n",
    "def suffix_matrix(to_int_keys, s):\n",
    "    n = len(s)\n",
    "    k = 1\n",
    "    line = to_int_keys(s)\n",
    "    ans = [line]\n",
    "    while k < n:\n",
    "        line = to_int_keys(\n",
    "            list(zip_longest(line, islice(line, k, None),\n",
    "                             fillvalue=-1)))\n",
    "        ans.append(line)\n",
    "        k <<= 1\n",
    "    return ans\n",
    "\n",
    "suffix_matrix(to_int_keys, 'banana')"
   ]
  },
  {
   "cell_type": "markdown",
   "metadata": {},
   "source": [
    "The `to_int_keys` function contains almost all the magic. It takes any iterable and returns integer indexes. If two elements were identical, their indexes will be equal.\n",
    "\n",
    "Using positive integers allows us to set $-1$ as the smallest possible value."
   ]
  },
  {
   "cell_type": "markdown",
   "metadata": {},
   "source": [
    "## The original implementation"
   ]
  },
  {
   "cell_type": "markdown",
   "metadata": {},
   "source": [
    "I wrote a version almost identical to the C++ code of the pdf, but it has bad performances."
   ]
  },
  {
   "cell_type": "code",
   "execution_count": 6,
   "metadata": {
    "ExecuteTime": {
     "end_time": "2017-07-02T16:46:27.946288Z",
     "start_time": "2017-07-02T17:46:27.890888+01:00"
    }
   },
   "outputs": [
    {
     "data": {
      "text/plain": [
       "[[1, 0, 2, 0, 2, 0],\n",
       " [3, 1, 4, 1, 4, 0],\n",
       " [3, 2, 5, 1, 4, 0],\n",
       " [3, 2, 5, 1, 4, 0]]"
      ]
     },
     "execution_count": 6,
     "metadata": {},
     "output_type": "execute_result"
    }
   ],
   "source": [
    "def suffix_matrix_stanford(s):\n",
    "    n = len(s)\n",
    "    k = 1\n",
    "    line = to_int_keys(s)\n",
    "    ans = [line]\n",
    "    while k < n:\n",
    "        L = sorted(\n",
    "            (key, index)\n",
    "            for index, key in enumerate(\n",
    "                zip_longest(line, islice(line, k, None),\n",
    "                            fillvalue=-1)\n",
    "            ))\n",
    "        line = [0] * n\n",
    "        for i in range(n):\n",
    "            line[L[i][1]] = (line[L[i - 1][1]]\n",
    "                             if i and L[i][0] == L[i - 1][0]\n",
    "                             else i)\n",
    "        ans.append(line)\n",
    "        k <<= 1\n",
    "    return ans\n",
    "\n",
    "suffix_matrix_stanford('banana')"
   ]
  },
  {
   "cell_type": "markdown",
   "metadata": {},
   "source": [
    "You can see the indexes are different in some lines of the matrix but they are in the same order, which is sufficient."
   ]
  },
  {
   "cell_type": "code",
   "execution_count": 7,
   "metadata": {
    "ExecuteTime": {
     "end_time": "2017-07-02T16:47:23.495757Z",
     "start_time": "2017-07-02T17:46:27.953195+01:00"
    }
   },
   "outputs": [
    {
     "name": "stdout",
     "output_type": "stream",
     "text": [
      "348 ms ± 4.52 ms per loop (mean ± std. dev. of 7 runs, 1 loop each)\n",
      "782 ms ± 6.02 ms per loop (mean ± std. dev. of 7 runs, 1 loop each)\n",
      "1.53 s ± 20.3 ms per loop (mean ± std. dev. of 7 runs, 1 loop each)\n",
      "3.01 s ± 40 ms per loop (mean ± std. dev. of 7 runs, 1 loop each)\n"
     ]
    }
   ],
   "source": [
    "for s in [constant_string(1e5),\n",
    "          random_string(1e5)]:\n",
    "    %timeit suffix_matrix(to_int_keys, s)\n",
    "    %timeit suffix_matrix_stanford(s)"
   ]
  },
  {
   "cell_type": "markdown",
   "metadata": {},
   "source": [
    "It shows that the Python builtins are very powerful.\n",
    "\n",
    "We can however observe that using `set` might slow down `sorted` because [Timsort](https://en.wikipedia.org/wiki/Timsort) performs well with partially sorted data, and sets are not ordered in Python. Can we fix that?"
   ]
  },
  {
   "cell_type": "markdown",
   "metadata": {},
   "source": [
    "## Small tricks"
   ]
  },
  {
   "cell_type": "markdown",
   "metadata": {},
   "source": [
    "### An optimisation based on [Timsort](https://en.wikipedia.org/wiki/Timsort)"
   ]
  },
  {
   "cell_type": "markdown",
   "metadata": {},
   "source": [
    "After a few steps, the array is almost sorted and the [Timsort](https://en.wikipedia.org/wiki/Timsort) performs well on that data. In the random case, the suffix is computed after a few steps, and sorting is done in $O(n)$ because the Timsort is adaptative (and in general is \"designed to perform well on many kinds of real-world data\").\n",
    "\n",
    "We test different `to_int_keys` functions implementing this trick:"
   ]
  },
  {
   "cell_type": "code",
   "execution_count": 8,
   "metadata": {
    "ExecuteTime": {
     "end_time": "2017-07-02T16:47:23.536155Z",
     "start_time": "2017-07-02T17:47:23.499111+01:00"
    },
    "tags": []
   },
   "outputs": [],
   "source": [
    "def to_int_keys1(l):\n",
    "    \"\"\"\n",
    "    l: iterable of keys\n",
    "    returns: a list with integer keys\n",
    "    \"\"\"\n",
    "    ls = []\n",
    "    for e in sorted(l):\n",
    "        if not ls or e != ls[-1]:\n",
    "            ls.append(e)\n",
    "    index = {v: i for i, v in enumerate(ls)}\n",
    "    return [index[v] for v in l]\n",
    "\n",
    "\n",
    "def to_int_keys2(l):\n",
    "    \"\"\"\n",
    "    l: iterable of keys\n",
    "    returns: a list with integer keys\n",
    "    \"\"\"\n",
    "    cnt = 0\n",
    "    lastKey = None\n",
    "    index = {}\n",
    "    for key in sorted(l):\n",
    "        if key != lastKey:\n",
    "            index[key] = cnt\n",
    "            cnt += 1\n",
    "        lastKey = key\n",
    "    return [index[v] for v in l]\n",
    "\n",
    "\n",
    "def to_int_keys3(l):\n",
    "    \"\"\"\n",
    "    l: iterable of keys\n",
    "    returns: a list with integer keys\n",
    "    \"\"\"\n",
    "    seen = set()\n",
    "    ls = []\n",
    "    for e in l:\n",
    "        if not e in seen:\n",
    "            ls.append(e)\n",
    "            seen.add(e)\n",
    "    ls.sort()\n",
    "    index = {v: i for i, v in enumerate(ls)}\n",
    "    return [index[v] for v in l]"
   ]
  },
  {
   "cell_type": "markdown",
   "metadata": {},
   "source": [
    "### Faster sorting using integers"
   ]
  },
  {
   "cell_type": "markdown",
   "metadata": {},
   "source": [
    "We can do a little hack to compare integers of `range(n * (n + 1))` instead of tuples."
   ]
  },
  {
   "cell_type": "code",
   "execution_count": 9,
   "metadata": {
    "ExecuteTime": {
     "end_time": "2017-07-02T16:47:23.609249Z",
     "start_time": "2017-07-02T17:47:23.558287+01:00"
    }
   },
   "outputs": [],
   "source": [
    "def suffix_matrix_int(to_int_keys, s):\n",
    "    n = len(s)\n",
    "    k = 1\n",
    "    line = to_int_keys(s)\n",
    "    ans = [line]\n",
    "    while k < n:\n",
    "        line = to_int_keys(\n",
    "            [a * (n + 1) + b + 1\n",
    "             for (a, b) in\n",
    "             zip_longest(line, islice(line, k, None),\n",
    "                         fillvalue=-1)])\n",
    "        ans.append(line)\n",
    "        k <<= 1\n",
    "    return ans"
   ]
  },
  {
   "cell_type": "markdown",
   "metadata": {},
   "source": [
    "## Performance test"
   ]
  },
  {
   "cell_type": "markdown",
   "metadata": {},
   "source": [
    "Now, let's compare everybody:"
   ]
  },
  {
   "cell_type": "code",
   "execution_count": 10,
   "metadata": {
    "ExecuteTime": {
     "end_time": "2017-07-02T16:56:57.764373Z",
     "start_time": "2017-07-02T17:47:23.620563+01:00"
    }
   },
   "outputs": [
    {
     "name": "stdout",
     "output_type": "stream",
     "text": [
      "length = 10000\n",
      "\n",
      "constant_string\n",
      "suffix_matrix\n",
      "26.3 ms ± 462 µs per loop (mean ± std. dev. of 7 runs, 10 loops each)\n",
      "25.3 ms ± 438 µs per loop (mean ± std. dev. of 7 runs, 10 loops each)\n",
      "22.7 ms ± 324 µs per loop (mean ± std. dev. of 7 runs, 10 loops each)\n",
      "23.9 ms ± 353 µs per loop (mean ± std. dev. of 7 runs, 10 loops each)\n",
      "\n",
      "suffix_matrix_int\n",
      "31.1 ms ± 602 µs per loop (mean ± std. dev. of 7 runs, 10 loops each)\n",
      "35.4 ms ± 352 µs per loop (mean ± std. dev. of 7 runs, 10 loops each)\n",
      "31.9 ms ± 291 µs per loop (mean ± std. dev. of 7 runs, 10 loops each)\n",
      "33.1 ms ± 210 µs per loop (mean ± std. dev. of 7 runs, 10 loops each)\n",
      "\n",
      "random_string\n",
      "suffix_matrix\n",
      "78.1 ms ± 761 µs per loop (mean ± std. dev. of 7 runs, 10 loops each)\n",
      "83.4 ms ± 706 µs per loop (mean ± std. dev. of 7 runs, 10 loops each)\n",
      "75.8 ms ± 815 µs per loop (mean ± std. dev. of 7 runs, 10 loops each)\n",
      "86.5 ms ± 724 µs per loop (mean ± std. dev. of 7 runs, 10 loops each)\n",
      "\n",
      "suffix_matrix_int\n",
      "60.8 ms ± 1.72 ms per loop (mean ± std. dev. of 7 runs, 10 loops each)\n",
      "68.1 ms ± 568 µs per loop (mean ± std. dev. of 7 runs, 10 loops each)\n",
      "62.4 ms ± 1.3 ms per loop (mean ± std. dev. of 7 runs, 10 loops each)\n",
      "71.7 ms ± 1.05 ms per loop (mean ± std. dev. of 7 runs, 10 loops each)\n",
      "\n",
      "length = 100000\n",
      "\n",
      "constant_string\n",
      "suffix_matrix\n",
      "330 ms ± 1.87 ms per loop (mean ± std. dev. of 7 runs, 1 loop each)\n",
      "322 ms ± 2.88 ms per loop (mean ± std. dev. of 7 runs, 1 loop each)\n",
      "287 ms ± 6.91 ms per loop (mean ± std. dev. of 7 runs, 1 loop each)\n",
      "294 ms ± 4.56 ms per loop (mean ± std. dev. of 7 runs, 1 loop each)\n",
      "\n",
      "suffix_matrix_int\n",
      "387 ms ± 2.5 ms per loop (mean ± std. dev. of 7 runs, 1 loop each)\n",
      "430 ms ± 2.98 ms per loop (mean ± std. dev. of 7 runs, 1 loop each)\n",
      "399 ms ± 2.5 ms per loop (mean ± std. dev. of 7 runs, 1 loop each)\n",
      "406 ms ± 4.26 ms per loop (mean ± std. dev. of 7 runs, 1 loop each)\n",
      "\n",
      "random_string\n",
      "suffix_matrix\n",
      "1.56 s ± 26.4 ms per loop (mean ± std. dev. of 7 runs, 1 loop each)\n",
      "1.55 s ± 9.4 ms per loop (mean ± std. dev. of 7 runs, 1 loop each)\n",
      "1.46 s ± 30.3 ms per loop (mean ± std. dev. of 7 runs, 1 loop each)\n",
      "1.66 s ± 50.2 ms per loop (mean ± std. dev. of 7 runs, 1 loop each)\n",
      "\n",
      "suffix_matrix_int\n",
      "1.29 s ± 17.5 ms per loop (mean ± std. dev. of 7 runs, 1 loop each)\n",
      "1.36 s ± 14.9 ms per loop (mean ± std. dev. of 7 runs, 1 loop each)\n",
      "1.25 s ± 11.4 ms per loop (mean ± std. dev. of 7 runs, 1 loop each)\n",
      "1.42 s ± 11.9 ms per loop (mean ± std. dev. of 7 runs, 1 loop each)\n",
      "\n"
     ]
    }
   ],
   "source": [
    "for length in [1e4, 1e5]:\n",
    "    print(\"length = %i\\n\" % length)\n",
    "    for s in ['constant_string',\n",
    "              'random_string']:\n",
    "        print(s)\n",
    "        s = eval(s)(length)\n",
    "        for sm in ['suffix_matrix', 'suffix_matrix_int']:\n",
    "            print(sm)\n",
    "            sm = eval(sm)\n",
    "            %timeit sm(to_int_keys, s)\n",
    "            %timeit sm(to_int_keys1, s)\n",
    "            %timeit sm(to_int_keys2, s)\n",
    "            %timeit sm(to_int_keys3, s)\n",
    "            print()"
   ]
  },
  {
   "cell_type": "markdown",
   "metadata": {},
   "source": [
    "Using integer keys helps speeding up the computations for `random_string`, slowing them a bit for the `constant_string`.\n",
    "\n",
    "We can see that the three new functions perform very well, and the big winner is `to_int_keys2`.\n",
    "\n",
    "The performance gained from applying the Timsort on partially sorted data is too complicated to be evaluated, it is only a rule of thumb that performs very well.\n",
    "\n",
    "I was expecting `to_int_keys3` to perform better because there is some kind of \"equilibrium\" between the **number** of different elements to sort and their partial **order**.\n",
    "\n",
    "Indeed, `to_int_keys3` has a $O(A*log(A) + n)$ time complexity where A is the number of different elements, so it should be faster on the first steps when the alphabet is small. However, the online operations done on `set` seem to be inefficient so the difference can only be seen on large values.\n",
    "\n",
    "We can also observe that using `suffix_matrix_int` helps `to_int_keys3`, probably because `set` is more efficient with integers than with tuples."
   ]
  },
  {
   "cell_type": "markdown",
   "metadata": {},
   "source": [
    "# Interlude: an outsider"
   ]
  },
  {
   "cell_type": "markdown",
   "metadata": {},
   "source": [
    "On [[AlgorithmicAlley]](http://algorithmicalley.com/archive/2013/06/30/suffix-arrays.aspx), I found a surprisingly elegant algorithm (I modified it a bit):"
   ]
  },
  {
   "cell_type": "code",
   "execution_count": 11,
   "metadata": {
    "ExecuteTime": {
     "end_time": "2017-07-02T16:56:57.765256Z",
     "start_time": "2017-07-02T16:46:23.893Z"
    }
   },
   "outputs": [
    {
     "data": {
      "text/plain": [
       "[5, 3, 1, 0, 4, 2]"
      ]
     },
     "execution_count": 11,
     "metadata": {},
     "output_type": "execute_result"
    }
   ],
   "source": [
    "from collections import defaultdict\n",
    "\n",
    "\n",
    "def sort_bucket(s, bucket, order):\n",
    "    d = defaultdict(list)\n",
    "    for i in bucket:\n",
    "        key = s[i + order // 2:i + order]\n",
    "        d[key].append(i)\n",
    "    result = []\n",
    "    for k, v in sorted(d.items()):\n",
    "        if len(v) > 1:\n",
    "            result += sort_bucket(s, v, 2 * order)\n",
    "        else:\n",
    "            result.append(v[0])\n",
    "    return result\n",
    "\n",
    "\n",
    "def suffix_array_ManberMyers(s):\n",
    "    return sort_bucket(s, range(len(s)), 1)\n",
    "\n",
    "suffix_array_ManberMyers('banana')"
   ]
  },
  {
   "cell_type": "code",
   "execution_count": 12,
   "metadata": {
    "ExecuteTime": {
     "end_time": "2017-07-02T16:56:57.766250Z",
     "start_time": "2017-07-02T16:46:23.903Z"
    }
   },
   "outputs": [
    {
     "name": "stdout",
     "output_type": "stream",
     "text": [
      "1.22 s ± 8.81 ms per loop (mean ± std. dev. of 7 runs, 1 loop each)\n",
      "115 ms ± 1.92 ms per loop (mean ± std. dev. of 7 runs, 10 loops each)\n"
     ]
    }
   ],
   "source": [
    "s = random_string(1e5)\n",
    "\n",
    "%timeit suffix_matrix_int(to_int_keys2, s)\n",
    "%timeit suffix_array_ManberMyers(s)"
   ]
  },
  {
   "cell_type": "markdown",
   "metadata": {},
   "source": [
    "Yes, almost 10 times better. At first, I was impressed. Then I tested it on a constant example:"
   ]
  },
  {
   "cell_type": "code",
   "execution_count": 13,
   "metadata": {
    "ExecuteTime": {
     "end_time": "2017-07-02T16:56:57.766950Z",
     "start_time": "2017-07-02T16:46:23.912Z"
    }
   },
   "outputs": [
    {
     "name": "stdout",
     "output_type": "stream",
     "text": [
      "741 ms ± 32.6 ms per loop (mean ± std. dev. of 7 runs, 1 loop each)\n",
      "132 ms ± 1.52 ms per loop (mean ± std. dev. of 7 runs, 10 loops each)\n",
      "944 ms ± 11.8 ms per loop (mean ± std. dev. of 7 runs, 1 loop each)\n"
     ]
    }
   ],
   "source": [
    "s = constant_string(5e4)\n",
    "\n",
    "%timeit suffix_array_naive(s)\n",
    "%timeit suffix_matrix(to_int_keys2, s)\n",
    "%timeit suffix_array_ManberMyers(s)"
   ]
  },
  {
   "cell_type": "markdown",
   "metadata": {},
   "source": [
    "What happened?\n",
    "\n",
    "When `d.items()` is sorted, it contains the real substrings. When you don't need to go really deep (like with a random string), it's not a problem. Because you don't compute the orders that are not useful, you limit the number of comparisons and you spare a lot of time. But the principle of prefix doubling is precisely to use the partial order that is already computed.\n",
    "\n",
    "In fact, for `constant_string`, you have to store almost all the suffixes before sorting them, and because you use a `defaultdict`, it is even less space and time efficient than the naive algorithm, and is $O(n^2)$.\n",
    "\n",
    "So this implementation is really not the same algorithm. And because of the method used, you don't have the suffix matrix that justifies to use a $O(n*log^2n)$ algorithm instead of the linear [[Skew]](http://www.cs.umd.edu/class/fall2011/cmsc858s/SuffixArrays.pdf)."
   ]
  },
  {
   "cell_type": "markdown",
   "metadata": {},
   "source": [
    "# Awesome optimisation: skipping the last lines"
   ]
  },
  {
   "cell_type": "markdown",
   "metadata": {},
   "source": [
    "## The idea"
   ]
  },
  {
   "cell_type": "markdown",
   "metadata": {},
   "source": [
    "We saw that when the suffixes can be compared fast, there are a lot of neat optimisations, either by exploiting the Timsort or by comparing the string themselves like in [[AlgorithmicAlley]](http://algorithmicalley.com/archive/2013/06/30/suffix-arrays.aspx).\n",
    "\n",
    "We can observe that if it is the case, the last lines of the matrix are going to be the same.\n",
    "Then, we don't need them!\n",
    "\n",
    "The stop condition is simply to check if we have all the integers. We only change **one** line.\n",
    "\n",
    "For random strings, the mean time to compare two prefixes is $O(log(n))$ instead of $O(n)$ so we do only about $O(log(log(n)))$ steps instead of $O(log(n))$.\n",
    "\n",
    "I have never seen this trick anywhere, if you know a reference, please tell me on [HN](https://news.ycombinator.com/item?id=14683769)!"
   ]
  },
  {
   "cell_type": "code",
   "execution_count": 14,
   "metadata": {
    "ExecuteTime": {
     "end_time": "2017-07-02T16:56:57.767481Z",
     "start_time": "2017-07-02T16:46:23.923Z"
    }
   },
   "outputs": [
    {
     "data": {
      "text/plain": [
       "[[1, 0, 2, 0, 2, 0], [2, 1, 3, 1, 3, 0], [3, 2, 5, 1, 4, 0]]"
      ]
     },
     "execution_count": 14,
     "metadata": {},
     "output_type": "execute_result"
    }
   ],
   "source": [
    "def suffix_matrix_smart(to_int_keys, s):\n",
    "    n = len(s)\n",
    "    k = 1\n",
    "    line = to_int_keys(s)\n",
    "    ans = [line]\n",
    "    while max(line) < n - 1:\n",
    "        line = to_int_keys(\n",
    "            list(zip_longest(line, islice(line, k, None),\n",
    "                             fillvalue=-1)))\n",
    "        ans.append(line)\n",
    "        k <<= 1\n",
    "    return ans\n",
    "\n",
    "suffix_matrix_smart(to_int_keys2, 'banana')"
   ]
  },
  {
   "cell_type": "code",
   "execution_count": 15,
   "metadata": {
    "ExecuteTime": {
     "end_time": "2017-07-02T16:56:57.767954Z",
     "start_time": "2017-07-02T16:46:23.933Z"
    }
   },
   "outputs": [
    {
     "name": "stdout",
     "output_type": "stream",
     "text": [
      "295 ms ± 7.98 ms per loop (mean ± std. dev. of 7 runs, 1 loop each)\n",
      "303 ms ± 6.39 ms per loop (mean ± std. dev. of 7 runs, 1 loop each)\n",
      "1.48 s ± 37.1 ms per loop (mean ± std. dev. of 7 runs, 1 loop each)\n",
      "231 ms ± 3.84 ms per loop (mean ± std. dev. of 7 runs, 1 loop each)\n"
     ]
    }
   ],
   "source": [
    "for s in [constant_string(1e5), random_string(1e5)]:\n",
    "    %timeit suffix_matrix(to_int_keys2, s)\n",
    "    %timeit suffix_matrix_smart(to_int_keys2, s)"
   ]
  },
  {
   "cell_type": "markdown",
   "metadata": {},
   "source": [
    "That's really better for the `random_string`.\n",
    "\n",
    "The reason is that we don't compute the last lines that are identical."
   ]
  },
  {
   "cell_type": "code",
   "execution_count": 16,
   "metadata": {
    "ExecuteTime": {
     "end_time": "2017-07-02T16:56:57.768648Z",
     "start_time": "2017-07-02T16:46:23.949Z"
    }
   },
   "outputs": [
    {
     "name": "stdout",
     "output_type": "stream",
     "text": [
      "18 4\n",
      "True\n"
     ]
    }
   ],
   "source": [
    "s = random_string(1e5)\n",
    "sm = suffix_matrix(to_int_keys2, s)\n",
    "sms = suffix_matrix_smart(to_int_keys2, s)\n",
    "\n",
    "print(len(sm), len(sms))\n",
    "print(sm[:len(sms)] == sms)"
   ]
  },
  {
   "cell_type": "markdown",
   "metadata": {},
   "source": [
    "## It is even better with integers"
   ]
  },
  {
   "cell_type": "markdown",
   "metadata": {},
   "source": [
    "Let's test again the performances with integers:"
   ]
  },
  {
   "cell_type": "code",
   "execution_count": 17,
   "metadata": {
    "ExecuteTime": {
     "end_time": "2017-07-02T16:56:57.769292Z",
     "start_time": "2017-07-02T16:46:23.962Z"
    },
    "tags": []
   },
   "outputs": [],
   "source": [
    "def suffix_matrix_smart_int(to_int_keys, s):\n",
    "    \"\"\"\n",
    "    suffix matrix of s\n",
    "    O(n * log(n)^2)\n",
    "    \"\"\"\n",
    "    n = len(s)\n",
    "    k = 1\n",
    "    line = to_int_keys(s)\n",
    "    ans = [line]\n",
    "    while max(line) < n - 1:\n",
    "        line = to_int_keys(\n",
    "            [a * (n + 1) + b + 1\n",
    "             for (a, b) in\n",
    "             zip_longest(line, islice(line, k, None),\n",
    "                         fillvalue=-1)])\n",
    "        ans.append(line)\n",
    "        k <<= 1\n",
    "    return ans"
   ]
  },
  {
   "cell_type": "code",
   "execution_count": 18,
   "metadata": {
    "ExecuteTime": {
     "end_time": "2017-07-02T16:56:57.769788Z",
     "start_time": "2017-07-02T16:46:23.973Z"
    }
   },
   "outputs": [
    {
     "name": "stdout",
     "output_type": "stream",
     "text": [
      "length = 100000\n",
      "\n",
      "constant_string\n",
      "suffix_matrix_smart\n",
      "301 ms ± 7.58 ms per loop (mean ± std. dev. of 7 runs, 1 loop each)\n",
      "312 ms ± 3.65 ms per loop (mean ± std. dev. of 7 runs, 1 loop each)\n",
      "\n",
      "suffix_matrix_smart_int\n",
      "421 ms ± 5.04 ms per loop (mean ± std. dev. of 7 runs, 1 loop each)\n",
      "428 ms ± 5.06 ms per loop (mean ± std. dev. of 7 runs, 1 loop each)\n",
      "\n",
      "random_string\n",
      "suffix_matrix_smart\n",
      "238 ms ± 6.32 ms per loop (mean ± std. dev. of 7 runs, 1 loop each)\n",
      "214 ms ± 4.47 ms per loop (mean ± std. dev. of 7 runs, 1 loop each)\n",
      "\n",
      "suffix_matrix_smart_int\n",
      "190 ms ± 1.91 ms per loop (mean ± std. dev. of 7 runs, 10 loops each)\n",
      "191 ms ± 1.81 ms per loop (mean ± std. dev. of 7 runs, 10 loops each)\n",
      "\n",
      "length = 500000\n",
      "\n",
      "constant_string\n",
      "suffix_matrix_smart\n",
      "2.15 s ± 33.4 ms per loop (mean ± std. dev. of 7 runs, 1 loop each)\n",
      "2.08 s ± 19.1 ms per loop (mean ± std. dev. of 7 runs, 1 loop each)\n",
      "\n",
      "suffix_matrix_smart_int\n",
      "2.62 s ± 31.4 ms per loop (mean ± std. dev. of 7 runs, 1 loop each)\n",
      "2.61 s ± 7.79 ms per loop (mean ± std. dev. of 7 runs, 1 loop each)\n",
      "\n",
      "random_string\n",
      "suffix_matrix_smart\n",
      "2.72 s ± 52.9 ms per loop (mean ± std. dev. of 7 runs, 1 loop each)\n",
      "2.58 s ± 76.6 ms per loop (mean ± std. dev. of 7 runs, 1 loop each)\n",
      "\n",
      "suffix_matrix_smart_int\n",
      "1.87 s ± 40.8 ms per loop (mean ± std. dev. of 7 runs, 1 loop each)\n",
      "1.85 s ± 29.9 ms per loop (mean ± std. dev. of 7 runs, 1 loop each)\n",
      "\n"
     ]
    }
   ],
   "source": [
    "for length in [1e5, 5e5]:\n",
    "    print(\"length = %i\\n\" % length)\n",
    "    for s in ['constant_string',\n",
    "              'random_string']:\n",
    "        print(s)\n",
    "        s = eval(s)(length)\n",
    "        for sm in ['suffix_matrix_smart',\n",
    "                   'suffix_matrix_smart_int']:\n",
    "            print(sm)\n",
    "            sm = eval(sm)\n",
    "            %timeit sm(to_int_keys2, s)\n",
    "            %timeit sm(to_int_keys3, s)\n",
    "            print()"
   ]
  },
  {
   "cell_type": "markdown",
   "metadata": {},
   "source": [
    "As I explained before, `to_int_keys3` is really better for the first steps (and when we work with integers). Since we are stopping after less steps, `to_int_keys3` provides the best results.\n",
    "\n",
    "The `to_int_keys_best`, `suffix_matrix_best` and `suffix_array_best` functions of the beginning are just some refactoring of `to_int_keys3` and `suffix_matrix_smart_int`."
   ]
  },
  {
   "cell_type": "markdown",
   "metadata": {},
   "source": [
    "## Final remarks on the LCP computation"
   ]
  },
  {
   "cell_type": "markdown",
   "metadata": {},
   "source": [
    "Discarding the last identical lines of the suffix matrix is not a problem to compute the LCP:"
   ]
  },
  {
   "cell_type": "code",
   "execution_count": 19,
   "metadata": {
    "ExecuteTime": {
     "end_time": "2017-07-02T16:56:57.770256Z",
     "start_time": "2017-07-02T16:46:23.987Z"
    }
   },
   "outputs": [
    {
     "name": "stdout",
     "output_type": "stream",
     "text": [
      "2\n",
      "2\n"
     ]
    }
   ],
   "source": [
    "def lcp(sm, i, j):\n",
    "    \"\"\"\n",
    "    longest common prefix\n",
    "    O(log(n))\n",
    "\n",
    "    sm: suffix matrix\n",
    "    \"\"\"\n",
    "    n = len(sm[-1])\n",
    "    if i == j:\n",
    "        return n - i\n",
    "    k = 1 << (len(sm) - 2)\n",
    "    ans = 0\n",
    "    for line in sm[-2::-1]:\n",
    "        if i >= n or j >= n:\n",
    "            break\n",
    "        if line[i] == line[j]:\n",
    "            ans ^= k\n",
    "            i += k\n",
    "            j += k\n",
    "        k >>= 1\n",
    "    return ans\n",
    "\n",
    "print(lcp(suffix_matrix(to_int_keys, 'banana'), 2, 4))\n",
    "print(lcp(suffix_matrix_smart(to_int_keys, 'banana'), 2, 4))"
   ]
  },
  {
   "cell_type": "markdown",
   "metadata": {},
   "source": [
    "# Plus Ultra\n",
    "\n",
    "The prefix doubling algorithm uses $O(log(n))$ steps that cost each $O(n*log(n))$ (or $O(A*log(A) + n)$ with `to_int_keys3`).\n",
    "\n",
    "We attacked the first $O(log(n))$ factor for random strings.\n",
    "\n",
    "Now, if you use a radix sort, you can implement `to_int_key` in $O(n)$, and use it with `suffix_matrix_smart` or `suffix_matrix_smart_int` (the former seems more suitable to avoid moduli operations).\n",
    "\n",
    "I implemented a radix sort based `to_int_keys` function that was not optimised and used it with `suffix_matrix_smart`. I tested it against `suffix_matrix_best` and it had similar results against `random_string` but performed really bad against `constant_string`. My radix sort was not optimised for almost sorted arrays, and was quite bad because it was not in place and had to reduce two elements counting arrays (see below).\n",
    "\n",
    "In fact, the native Timsort is so efficient that it beats the radix sort when we provide almost sorted arrays. I don't know what would happen for really high values of $n$ (tested up to `5e6`), but who would process longer arrays on a single computer with a Python code?\n",
    "\n",
    "You can consult those two good references:\n",
    "\n",
    "- http://www.opendatastructures.org/ods-python/11_2_Counting_Sort_Radix_So.html (the one I implemented)\n",
    "\n",
    "- https://www.cs.princeton.edu/~rs/AlgsDS07/18RadixSort.pdf"
   ]
  },
  {
   "cell_type": "markdown",
   "metadata": {},
   "source": [
    "# References\n",
    "\n",
    "[[Kattis]](https://open.kattis.com/problems/substrings):\n",
    "https://open.kattis.com/problems/substrings\n",
    "\n",
    "[[Stanford]](http://web.stanford.edu/class/cs97si/suffix-array.pdf):\n",
    "http://web.stanford.edu/class/cs97si/suffix-array.pdf\n",
    "\n",
    "[[StackOverflow]](https://stackoverflow.com/questions/44866493/how-is-the-string-sort-optimised-in-cpython):\n",
    "https://stackoverflow.com/questions/44866493/how-is-the-string-sort-optimised-in-cpython\n",
    "\n",
    "[[Skew]](http://www.cs.umd.edu/class/fall2011/cmsc858s/SuffixArrays.pdf):\n",
    "http://www.cs.umd.edu/class/fall2011/cmsc858s/SuffixArrays.pdf\n",
    "\n",
    "[[AlgorithmicAlley]](http://algorithmicalley.com/archive/2013/06/30/suffix-arrays.aspx):\n",
    "http://algorithmicalley.com/archive/2013/06/30/suffix-arrays.aspx"
   ]
  }
 ],
 "metadata": {
  "date": "2017-07-03",
  "kernelspec": {
   "display_name": "Python 3",
   "language": "python",
   "name": "python3"
  },
  "language_info": {
   "codemirror_mode": {
    "name": "ipython",
    "version": 3
   },
   "file_extension": ".py",
   "mimetype": "text/x-python",
   "name": "python",
   "nbconvert_exporter": "python",
   "pygments_lexer": "ipython3",
   "version": "3.9.10"
  },
  "metadata": {
   "interpreter": {
    "hash": "5623c2b204572a56dd242e03efe6fe262e257d75344930e22cb348ab8fa9e0c0"
   }
  },
  "title": "Suffix arrays in Python",
  "toc": {
   "colors": {
    "hover_highlight": "#DAA520",
    "navigate_num": "#000000",
    "navigate_text": "#333333",
    "running_highlight": "#FF0000",
    "selected_highlight": "#FFD700",
    "sidebar_border": "#EEEEEE",
    "wrapper_background": "#FFFFFF"
   },
   "moveMenuLeft": false,
   "nav_menu": {
    "height": "174px",
    "width": "252px"
   },
   "navigate_menu": true,
   "number_sections": true,
   "sideBar": true,
   "skipTitle": true,
   "threshold": 4,
   "toc_cell": true,
   "toc_section_display": "block",
   "toc_window_display": true,
   "widenNotebook": false
  }
 },
 "nbformat": 4,
 "nbformat_minor": 4
}
